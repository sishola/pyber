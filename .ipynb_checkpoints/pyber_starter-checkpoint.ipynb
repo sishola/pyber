{
 "cells": [
  {
   "cell_type": "code",
   "execution_count": null,
   "metadata": {},
   "outputs": [],
   "source": [
    "%matplotlib inline\n",
    "# Dependencies and Setup\n",
    "import matplotlib.pyplot as plt\n",
    "import pandas as pd\n",
    "import numpy as np\n",
    "\n",
    "# File to Load (Remember to change these)\n",
    "city_data_to_load = \"data/city_data.csv\"\n",
    "ride_data_to_load = \"data/ride_data.csv\"\n",
    "\n",
    "# Read the City and Ride Data\n",
    "city_df = pd.read_csv(city_data_to_load)\n",
    "ride_df = pd.read_csv(ride_data_to_load)\n",
    "\n",
    "\n",
    "# Combine the data into a single dataset\n",
    "city_rides = pd.merge(city_df, ride_df, on='city')\n",
    "\n",
    "# Display the data table for preview\n",
    "city_rides.head()"
   ]
  },
  {
   "cell_type": "code",
   "execution_count": null,
   "metadata": {
    "scrolled": true
   },
   "outputs": [],
   "source": []
  },
  {
   "cell_type": "code",
   "execution_count": null,
   "metadata": {},
   "outputs": [],
   "source": [
    "#city_rides['type'].unique()\n",
    "#Urban\n",
    "urban_city_rides = city_rides.loc[city_rides['type'] == 'Urban', ['fare', 'driver_count', 'ride_id', 'city']]\n",
    "#print(urban_city_rides.head())\n",
    "city_urban_grp = urban_city_rides.groupby(['city'])\n",
    "city_urban_df = pd.DataFrame(city_urban_grp.agg({'fare' : 'mean'\n",
    "                   , 'ride_id' : 'count'\n",
    "                   , 'driver_count' : 'sum'\n",
    "                   }))\n",
    "#print(city_urban_df)\n",
    "city_urban_df = city_urban_df.rename(columns={'fare' : 'avg_fare'\n",
    "                                             , 'ride_id' : \"num_rides\"\n",
    "                                             , 'driver_count' : \"num_drivers\"})\n",
    "\n",
    "#Suburban\n",
    "suburban_city_rides = city_rides.loc[city_rides['type'] == 'Suburban', ['fare', 'driver_count', 'ride_id', 'city']]\n",
    "#print(suburban_city_rides.head())\n",
    "\n",
    "city_suburban_grp = suburban_city_rides.groupby(['city'])\n",
    "city_suburban_df = pd.DataFrame(city_suburban_grp.agg({'fare' : 'mean'\n",
    "                   , 'ride_id' : 'count'\n",
    "                   , 'driver_count' : 'sum'\n",
    "                   }))\n",
    "city_suburban_df = city_suburban_df.rename(columns={'fare' : 'avg_fare'\n",
    "                                             , 'ride_id' : \"num_rides\"\n",
    "                                             , 'driver_count' : \"num_drivers\"})\n",
    "\n",
    "\n",
    "#Rural\n",
    "rural_city_rides = city_rides.loc[city_rides['type'] == 'Rural', ['fare', 'driver_count', 'ride_id', 'city']]\n",
    "\\\n",
    "city_rural_grp = rural_city_rides.groupby(['city'])\n",
    "city_rural_df = pd.DataFrame(city_rural_grp.agg({'fare' : 'mean'\n",
    "                   , 'ride_id' : 'count'\n",
    "                   , 'driver_count' : 'sum'\n",
    "                   }))\n",
    "city_rural_df = city_rural_df.rename(columns={'fare' : 'avg_fare'\n",
    "                                             , 'ride_id' : \"num_rides\"\n",
    "                                             , 'driver_count' : \"num_drivers\"})\n",
    "\n",
    "#print(city_urban_df.head())\n",
    "#print(city_suburban_df.head())\n",
    "#print(city_rural_df.head())"
   ]
  },
  {
   "cell_type": "markdown",
   "metadata": {},
   "source": [
    "## Bubble Plot of Ride Sharing Data"
   ]
  },
  {
   "cell_type": "code",
   "execution_count": null,
   "metadata": {},
   "outputs": [],
   "source": [
    "# Obtain the x and y coordinates for each of the three city types\n",
    "urban_x_axis = city_urban_df['num_rides']\n",
    "urban_y_axis = city_urban_df['avg_fare']\n",
    "urban_s = city_urban_df['num_drivers']\n",
    "\n",
    "suburban_x_axis = city_suburban_df['num_rides']\n",
    "suburban_y_axis = city_suburban_df['avg_fare']\n",
    "suburban_s = city_suburban_df['num_drivers']\n",
    "\n",
    "rural_x_axis = city_rural_df['num_rides']\n",
    "rural_y_axis = city_rural_df['avg_fare']\n",
    "rural_s = city_rural_df['num_drivers']\n",
    "\n",
    "# Build the scatter plots for each city types\n",
    "plt.scatter(urban_x_axis, urban_y_axis, facecolors=\"coral\", edgecolors=\"black\", s=urban_s/3, alpha=0.7, label='Urban')\n",
    "plt.scatter(suburban_x_axis, suburban_y_axis, facecolors=\"skyblue\", edgecolors=\"black\", s=suburban_s/2, alpha=0.75, label='Suburban')\n",
    "plt.scatter(rural_x_axis, rural_y_axis, facecolors=\"gold\", edgecolors=\"black\", s=rural_s/2, alpha=0.75, label='Rural')\n",
    "\n",
    "# Incorporate the other graph properties\n",
    "plt.grid()\n",
    "plt.xlim(0.1, 41)\n",
    "plt.ylim(19, 44)\n",
    "plt.title('Pyber Ride Sharing Data (2016)')\n",
    "plt.xlabel('Total Number of Rides (Per City)')\n",
    "plt.ylabel('Average Fare ($)')\n",
    "\n",
    "# Create a legend\n",
    "lgnd = plt.legend(loc='upper right', title='City Types')\n",
    "lgnd.legendHandles[0]._sizes = [30]\n",
    "lgnd.legendHandles[1]._sizes = [30]\n",
    "lgnd.legendHandles[2]._sizes = [30]\n",
    "\n",
    "\n",
    "# Incorporate a text label regarding circle size\n",
    "plt.text(42, 37, 'Note')\n",
    "plt.text(42, 36, 'Circle size correlates with driver count per city')\n",
    "\n",
    "# Save Figure\n",
    "plt.savefig('Output/Pyber_RidesPerCity_by_AvgFare.png')\n"
   ]
  },
  {
   "cell_type": "code",
   "execution_count": null,
   "metadata": {},
   "outputs": [],
   "source": [
    "# Show plot\n",
    "plt.show()"
   ]
  },
  {
   "cell_type": "markdown",
   "metadata": {},
   "source": [
    "## Total Fares by City Type"
   ]
  },
  {
   "cell_type": "code",
   "execution_count": null,
   "metadata": {},
   "outputs": [],
   "source": [
    "# Calculate Type Percents\n",
    "\n",
    "city_urban_pie = urban_city_rides['fare'].sum()\n",
    "\n",
    "city_suburban_pie = suburban_city_rides['fare'].sum()\n",
    "\n",
    "city_rural_pie = rural_city_rides['fare'].sum()\n",
    "\n",
    "#print(city_urban_pie)\n",
    "\n",
    "\n",
    "# Build Pie Chart\n",
    "\n",
    "city_types = [\"Urban\", \"Rural\", \"Suburban\"]\n",
    "total_fares = [city_urban_pie, city_rural_pie, city_suburban_pie]\n",
    "colors = [\"coral\", \"gold\", \"skyblue\"]\n",
    "explode = (0.1,0,0)\n",
    "\n",
    "plt.pie(total_fares, explode=explode, labels=city_types, colors=colors,\n",
    "        autopct=\"%1.1f%%\", shadow=True, startangle=-65)\n",
    "plt.title('% of Total Fares by City Type')\n",
    "\n",
    "# Save Figure\n",
    "plt.savefig('Output/Pyber_Total_Fares_by_City_Type.png')\n"
   ]
  },
  {
   "cell_type": "code",
   "execution_count": null,
   "metadata": {},
   "outputs": [],
   "source": [
    "# Show Figure\n",
    "plt.show()"
   ]
  },
  {
   "cell_type": "markdown",
   "metadata": {},
   "source": [
    "## Total Rides by City Type"
   ]
  },
  {
   "cell_type": "code",
   "execution_count": null,
   "metadata": {},
   "outputs": [],
   "source": [
    "# Calculate Ride Percents\n",
    "\n",
    "city_urban_pie = urban_city_rides['fare'].count()\n",
    "\n",
    "city_suburban_pie = suburban_city_rides['fare'].count()\n",
    "\n",
    "city_rural_pie = rural_city_rides['fare'].count()\n",
    "\n",
    "\n",
    "\n",
    "# Build Pie Chart\n",
    "\n",
    "city_types = [\"Urban\", \"Rural\", \"Suburban\"]\n",
    "total_fares = [city_urban_pie, city_rural_pie, city_suburban_pie]\n",
    "colors = [\"coral\", \"gold\", \"skyblue\"]\n",
    "explode = (0.1,0,0)\n",
    "\n",
    "plt.pie(total_fares, explode=explode, labels=city_types, colors=colors,\n",
    "        autopct=\"%1.1f%%\", shadow=True, startangle=-65)\n",
    "plt.title('% of Total Rides by City Type')\n",
    "\n",
    "# Save Figure\n",
    "plt.savefig('Output/Pyber_Total_Rides_by_City_Type.png')\n"
   ]
  },
  {
   "cell_type": "code",
   "execution_count": null,
   "metadata": {},
   "outputs": [],
   "source": [
    "# Show Figure\n",
    "plt.show()"
   ]
  },
  {
   "cell_type": "markdown",
   "metadata": {},
   "source": [
    "## Total Drivers by City Type"
   ]
  },
  {
   "cell_type": "code",
   "execution_count": null,
   "metadata": {},
   "outputs": [],
   "source": [
    "# Calculate Driver Percents\n",
    "\n",
    "urban_driver_df = city_df.loc[city_df['type'] == 'Urban', ['driver_count']]\n",
    "urban_driver_cnt = urban_driver_df['driver_count'].sum()\n",
    "\n",
    "suburban_driver_df = city_df.loc[city_df['type'] == 'Suburban', ['driver_count']].sum()\n",
    "suburban_driver_cnt = suburban_driver_df['driver_count'].sum()\n",
    "\n",
    "rural_driver_df = city_df.loc[city_df['type'] == 'Rural', ['driver_count']].sum()\n",
    "rural_driver_cnt = rural_driver_df['driver_count'].sum()\n",
    "\n",
    "# Build Pie Charts\n",
    "city_types = [\"Urban\", \"Rural\", \"Suburban\"]\n",
    "driver_cnt = [urban_driver_cnt, rural_driver_cnt, suburban_driver_cnt]\n",
    "colors = [\"coral\", \"gold\", \"skyblue\"]\n",
    "explode = (0.1,0,0)\n",
    "\n",
    "plt.pie(driver_cnt, explode=explode, labels=city_types, colors=colors,\n",
    "        autopct=\"%1.1f%%\", shadow=True, startangle=-135)\n",
    "plt.title('% of Total Drivers by City Type')\n",
    "\n",
    "# Save Figure\n",
    "plt.savefig('Output/Pyber_Total_Drivers_by_City_Type.png')\n"
   ]
  },
  {
   "cell_type": "code",
   "execution_count": null,
   "metadata": {
    "scrolled": false
   },
   "outputs": [],
   "source": [
    "# Show Figure\n",
    "plt.show()"
   ]
  },
  {
   "cell_type": "code",
   "execution_count": null,
   "metadata": {},
   "outputs": [],
   "source": []
  }
 ],
 "metadata": {
  "anaconda-cloud": {},
  "kernelspec": {
   "display_name": "Python 3",
   "language": "python",
   "name": "python3"
  },
  "language_info": {
   "codemirror_mode": {
    "name": "ipython",
    "version": 3
   },
   "file_extension": ".py",
   "mimetype": "text/x-python",
   "name": "python",
   "nbconvert_exporter": "python",
   "pygments_lexer": "ipython3",
   "version": "3.6.8"
  }
 },
 "nbformat": 4,
 "nbformat_minor": 2
}
